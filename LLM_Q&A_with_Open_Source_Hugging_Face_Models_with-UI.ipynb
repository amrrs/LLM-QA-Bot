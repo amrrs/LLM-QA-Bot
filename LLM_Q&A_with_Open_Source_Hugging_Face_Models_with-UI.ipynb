{
  "nbformat": 4,
  "nbformat_minor": 0,
  "metadata": {
    "colab": {
      "provenance": []
    },
    "kernelspec": {
      "name": "python3",
      "display_name": "Python 3"
    },
    "language_info": {
      "name": "python"
    },
    "accelerator": "GPU",
    "gpuClass": "standard"
  },
  "cells": [
    {
      "cell_type": "markdown",
      "source": [
        "OG Credit: https://colab.research.google.com/drive/1AVh9dOsG9DKzfK7gOFrJuitPIcLPqlbO?usp=sharing#scrollTo=g8ntQ9CzRQ-q"
      ],
      "metadata": {
        "id": "1e3qNLbSk0bQ"
      }
    },
    {
      "cell_type": "code",
      "source": [
        "!nvidia-smi"
      ],
      "metadata": {
        "colab": {
          "base_uri": "https://localhost:8080/"
        },
        "id": "7QDYcisZkTc8",
        "outputId": "1e69fa98-da36-440c-fabe-620b005bf75f"
      },
      "execution_count": 10,
      "outputs": [
        {
          "output_type": "stream",
          "name": "stdout",
          "text": [
            "Wed Mar  8 19:54:41 2023       \n",
            "+-----------------------------------------------------------------------------+\n",
            "| NVIDIA-SMI 525.85.12    Driver Version: 525.85.12    CUDA Version: 12.0     |\n",
            "|-------------------------------+----------------------+----------------------+\n",
            "| GPU  Name        Persistence-M| Bus-Id        Disp.A | Volatile Uncorr. ECC |\n",
            "| Fan  Temp  Perf  Pwr:Usage/Cap|         Memory-Usage | GPU-Util  Compute M. |\n",
            "|                               |                      |               MIG M. |\n",
            "|===============================+======================+======================|\n",
            "|   0  Tesla T4            Off  | 00000000:00:04.0 Off |                    0 |\n",
            "| N/A   67C    P0    25W /  70W |      0MiB / 15360MiB |      0%      Default |\n",
            "|                               |                      |                  N/A |\n",
            "+-------------------------------+----------------------+----------------------+\n",
            "                                                                               \n",
            "+-----------------------------------------------------------------------------+\n",
            "| Processes:                                                                  |\n",
            "|  GPU   GI   CI        PID   Type   Process name                  GPU Memory |\n",
            "|        ID   ID                                                   Usage      |\n",
            "|=============================================================================|\n",
            "|  No running processes found                                                 |\n",
            "+-----------------------------------------------------------------------------+\n"
          ]
        }
      ]
    },
    {
      "cell_type": "code",
      "execution_count": 11,
      "metadata": {
        "id": "TFDDKkJfkQjy"
      },
      "outputs": [],
      "source": [
        "! pip install -q langchain gpt-index llama-index transformers sentence_transformers"
      ]
    },
    {
      "cell_type": "code",
      "source": [
        "from llama_index import SimpleDirectoryReader, LangchainEmbedding, GPTListIndex,GPTSimpleVectorIndex, PromptHelper\n",
        "from langchain.embeddings.huggingface import HuggingFaceEmbeddings\n",
        "from llama_index import LLMPredictor\n",
        "import torch\n",
        "from langchain.llms.base import LLM\n",
        "from transformers import pipeline\n"
      ],
      "metadata": {
        "id": "aGCX8IBekbNd"
      },
      "execution_count": 12,
      "outputs": []
    },
    {
      "cell_type": "code",
      "source": [
        "\n",
        "\n",
        "class FlanLLM(LLM):\n",
        "    model_name = \"google/flan-t5-base\"\n",
        "    pipeline = pipeline(\"text2text-generation\", model=model_name, device=0, model_kwargs={\"torch_dtype\":torch.bfloat16})\n",
        "\n",
        "    def _call(self, prompt, stop=None):\n",
        "        return self.pipeline(prompt, max_length=9999)[0][\"generated_text\"]\n",
        " \n",
        "    def _identifying_params(self):\n",
        "        return {\"name_of_model\": self.model_name}\n",
        "\n",
        "    def _llm_type(self):\n",
        "        return \"custom\"\n",
        "\n",
        "\n",
        "llm_predictor = LLMPredictor(llm=FlanLLM())\n",
        "\n"
      ],
      "metadata": {
        "id": "nVcWX65LkfG6"
      },
      "execution_count": 13,
      "outputs": []
    },
    {
      "cell_type": "code",
      "source": [
        "hfemb = HuggingFaceEmbeddings()\n",
        "embed_model = LangchainEmbedding(hfemb)"
      ],
      "metadata": {
        "id": "Noq5r9_jkiVT"
      },
      "execution_count": 14,
      "outputs": []
    },
    {
      "cell_type": "code",
      "source": [
        "text1 = \"\"\"Christopher Ashton Kutcher (/ˈkʊtʃər/; born February 7, 1978)[1] is an American actor, producer, entrepreneur, and former model. He is the recipient of various accolades, including a People's Choice Award, and nominations for two Young Artist Awards, a Screen Actors Guild Award, and a Critics' Choice Movie Award.\n",
        "\n",
        "He began his acting career portraying Michael Kelso in the Fox sitcom That '70s Show (1998–2006). He made his film debut in the romantic comedy Coming Soon (1999), followed by the comedy film Dude, Where's My Car? (2000), which was a box office hit. In 2003, Kutcher moved into romantic comedies, appearing in that year's Just Married and My Boss's Daughter. In 2003, he created and produced the television series Punk'd, also serving as host for the first eight of its ten seasons. In 2004, Kutcher starred in the lead role of the psychological film The Butterfly Effect.\n",
        "\n",
        "Kutcher subsequently appeared in more romantic comedies, including Guess Who (2005), A Lot Like Love (2005), What Happens in Vegas (2008), and No Strings Attached (2011). He starred as Walden Schmidt on the CBS sitcom Two and a Half Men (2011–2015). In 2013, Kutcher portrayed Steve Jobs in the biographical film Jobs. He also starred as Colt Bennett in the Netflix series The Ranch (2016–2020). Kutcher provided the voice of Elliot in Open Season (2006). Kutcher later starred in the comedy thriller Vengeance (2022).\n",
        "\n",
        "Beyond entertainment, Kutcher is also a venture capitalist. He is a co-founder of the venture capital firm A-Grade Investments. At SXSW in March 2015, Kutcher announced Sound Ventures, the successor to A-Grade Investments, managing a fund backed by institutional funding. Kutcher has also successfully invested in several high technology startups. Kutcher has investments in over 60 companies, the most prominent of which include Skype, Foursquare, Airbnb, Path and Fab.com. Kutcher has invested in five startups as of August 2017: Neighborly, Zenreach, ResearchGate, Duolingo, Kopari Beauty, and Lemonade.\n",
        "\n",
        "Early life\n",
        "Kutcher was born on February 7, 1978, in Cedar Rapids, Iowa, to Diane (née Finnegan), a Procter & Gamble employee, and Larry M. Kutcher, a factory worker.[1][2] He has Czech, German, and Irish ancestry.[3][4]\n",
        "\n",
        "Kutcher was raised in a \"relatively conservative\" Catholic family.[5] He has an older sister named Tausha and a fraternal twin brother named Michael, who had a heart transplant when the brothers were young children.[6] Michael also has cerebral palsy and is a spokesperson for the advocacy organization Reaching for the Stars.[7] Michael's cardiomyopathy caused Kutcher's home life to become increasingly stressful. He has said he \"didn't want to come home and find more bad news\" about his brother, stating, \"I kept myself so busy that I didn't allow myself to feel.\"[8] Kutcher stated that, when he was 13, he contemplated committing suicide to save his brother's life with a heart transplant; when he told his father he was considering jumping from a Cedar Rapids hospital balcony, his father dissuaded him from doing so shortly before doctors announced that a transplant had become available from an accident victim in another state.[9]\n",
        "\n",
        "Kutcher attended Washington High School in Cedar Rapids for his freshman year, before his family moved to Homestead, Iowa, where he attended Clear Creek–Amana High School. During high school, he developed a passion for acting and appeared in school plays. During his senior year, he broke into his high school at midnight with his cousin in an attempt to steal money; he was arrested leaving the scene. Kutcher was convicted of third-degree burglary and sentenced to three years of probation and 180 hours of community service. Kutcher stated that although the experience \"straightened him out\", he lost his girlfriend and anticipated college scholarships, and was ostracized at school and in his community.[10]\n",
        "\n",
        "Kutcher enrolled at the University of Iowa in August 1996, where his planned major was biochemical engineering, motivated by the desire to cure his brother's heart ailment.[2] At college, Kutcher was kicked out of his apartment for being too \"noisy\" and \"wild\".[11] Kutcher stated, \"I thought I knew everything but I didn't have a clue. I was partying, and I woke up many mornings not knowing what I had done the night before. I played way too hard. I am amazed I am not dead.\"[12] To earn tuition money, Kutcher worked as a college summer hire in the cereal department for the General Mills plant in Cedar Rapids and sometimes sold his blood plasma.[13] While at the University of Iowa, he was approached by a model scout at The Airliner bar in Iowa City, Iowa,[14] and entered the \"Fresh Faces of Iowa\" modeling competition. Placing first, he won a trip to New York City's International Modeling and Talent Association (IMTA) Convention. Leaving Iowa for a stay in New York City, Kutcher then returned to Cedar Rapids, before relocating to Los Angeles to pursue a career in acting.[11]\n",
        "\n",
        "Career\n",
        "Modeling\n",
        "After participating in an IMTA competition in 1998, Kutcher signed with Next modeling agency in New York, appeared in commercials for Calvin Klein, and modelled in Paris and Milan.[15]\n",
        "\n",
        "Acting\n",
        "\n",
        "Kutcher (left) with Two and a Half Men co-star Jon Cryer in September 2011\n",
        "Following his success in modeling, Kutcher moved to Los Angeles after his first audition.[16] He was cast as Michael Kelso in the television series That '70s Show, from 1998 to 2006. Kutcher was cast in a series of film roles; although he auditioned but was not cast for the role of Danny Walker in Pearl Harbor (2001) (replaced by Josh Hartnett), he starred in several comedy films, including Dude, Where's My Car? (2000), Just Married (2003), and Guess Who (2005). He appeared in the 2003 family film Cheaper by the Dozen as a self-obsessed actor. In the 2004 drama film The Butterfly Effect, Kutcher played a conflicted young man who time travels. While the film received negative reviews, it was a box office success.[10]\n",
        "\n",
        "In 2003, Kutcher produced and starred as the host in his own series, MTV's Punk'd, that involved hidden camera tricks performed on celebrities. He is also an executive producer of the reality television shows Beauty and the Geek, Adventures in Hollyhood (based around the rap group Three 6 Mafia), The Real Wedding Crashers, and the game show Opportunity Knocks. Many of his production credits, including Punk'd, come through Katalyst Films, a production company he runs with partner Jason Goldberg.[17] A 2004 interviewer described Kutcher as a \"hunky young actor [who] is heading in all different directions at once\", including \"the hot L.A. restaurant Dolce\":\n",
        "\n",
        "\"If anything, I'm a trier,\" says Kutcher between puffs of filtered Lucky Strikes. \"I think, more than anything, it comes from the fact that my father always had several irons in the fire. Also, I don't want to fail. If something doesn't work out—if That '70s Show got canceled or if I wasn't going to have a film career—I always wanted to have backup contingency plans. So I just started doing other things; and on a half-hour sitcom, you're really only working for 30 hours a week. It allows a lot of time for sitting around, which I always kind of filled with work.[18]\n",
        "\n",
        "Because of scheduling conflicts with the filming of The Guardian, Kutcher was unable to renew his contract for the eighth and final season of That '70s Show, although he appeared in its first four episodes (credited as a special guest star) and returned for the series finale.[10] Kutcher produced and starred in the 2010 action comedy, Killers, in which he played a hitman.[19] In May 2011, Kutcher was announced as Charlie Sheen's replacement on the series Two and a Half Men.[20]\n",
        "\n",
        "Kutcher's contract was for one year and was believed to be worth nearly $20 million.[21] His debut as the character Walden Schmidt, entitled \"Nice to Meet You, Walden Schmidt\", was seen by 28.7 million people on September 19, 2011. The Nielsen ratings company reported that figure was more than any episode in the show's first eight seasons, when Sheen starred in it.[22][23] Kutcher earned $750,000 an episode on the show.[24] The show ended with a forty-minute series finale \"Of Course He's Dead\" on February 19, 2015.\n",
        "\n",
        "Kutcher appeared as a guest Shark during the seventh season of reality TV show Shark Tank, which premiered on September 25, 2015.[25]\n",
        "\n",
        "In 2016, he appeared in the \"Candy, Quahog Marshmallow\" episode of Family Guy.[26] From 2016 to 2020, Kutcher co-starred in the Netflix series The Ranch alongside Danny Masterson, Elisha Cuthbert and Debra Winger, playing the role of Colt Bennett, the son of a Colorado rancher (Sam Elliott) returning home from a semi-pro football career to run the family business on the ranch. On April 30, 2022, it was announced that Kutcher would have a guest appearance in the follow-up sitcom, That '90s Show.[27]\n",
        "\n",
        "Venture capital\n",
        "Beyond the entertainment world, Kutcher has invested in several high technology startups.[28][29] Kutcher has invested in five startups as of August 2017: Neighborly, Zenreach, ResearchGate, Duolingo,[30][31] Kopari Beauty, and most recently, Lemonade.[32]\n",
        "\n",
        "He is a co-founder of the venture capital firm A-Grade Investments with Guy Oseary and Ron Burkle and fund manager Chris Hollod. Kutcher, Oseary, and Burkle started by initially investing $30m of their own funds in 2010 when they founded the firm, by 2016 Forbes valued the firms holdings at $236 million.[33] At SXSW on March 14, 2015, Kutcher announced Sound Ventures, the successor to A-Grade Investments managing a fund backed by institutional funding.[34]\n",
        "\n",
        "On October 29, 2013, Lenovo announced that it hired Kutcher as product engineer.[35] Kutcher was part of the management team for Ooma, a tech start-up launched in September 2007. Ooma is in the Voice over Internet Protocol business and Kutcher's role was as Creative Director.[36] He spearheaded a marketing campaign and produced viral videos to promote this service. Kutcher also created an interactive arm of Katalyst called Katalyst Media, with his partner from Katalyst Films, Jason Goldberg.[37][38] Their first site was the animated cartoon Blah Girls. Ooma revamped its sales and marketing strategy with a new management team in the summer of 2008, replacing Kutcher as their creative director. Rich Buchanan, from Sling Media, became Ooma's Chief Marketing Officer.[39]\n",
        "\n",
        "Kutcher has invested in an Italian restaurant called Dolce[10] (other owners include Danny Masterson and Wilmer Valderrama) and a Japanese-themed restaurant named Geisha House with locations in Atlanta, Los Angeles, and New York City.[40] Geisha House went out of business on June 1, 2013.[41] In 2019 Ashton Kutcher, Mark Cuban, Steve Watts, and Watts' wife Angela, invested a 50% stake in Veldskoen shoes fledgling US business. [42]\n",
        "\n",
        "Other work\n",
        "In 2009, Kutcher established an international human rights organization with his then-wife Demi Moore. DNA Foundation, later known as Thorn: Digital Defenders of Children, works to address the sexual exploitation of children and the proliferation of child pornography on a global scale.[43] On March 23, 2011, Kutcher launched his own Twitter client with UberMedia called A.plus. While the app was initially available exclusively for desktop computers with Adobe Air installed, it eventually became available on mobile platforms, for iPhone, Android, and BlackBerry. In order to download on one of the 3 mobile platforms, users must first have the UberSocial client installed on their device and then proceed to the device's browser to download A.plus.[44][45]\n",
        "\n",
        "In 2013, Kutcher teamed up with Evan Beard and Kendall Dabaghi to launch A Plus, where Kutcher is chairman of the board.[46] Initially a product discovery service,[47] it morphed in April 2014 to a social media-driven content platform focused on upbeat stories.[48] It was officially launched in that incarnation in January 2015.[49] It has reported 27.5 million monthly uniques in the United States, has an Alexa rank of about 11787 (4019 in the US), and is ranked by Quantcast as a top-50 site in the US in terms of unique visitors.[46][50]\n",
        "\n",
        "In 2022, Kutcher and his wife Mila Kunis started a gofundme page to help two online companies (Airbnb and Flexport) to aid refugees fleeing the violence in Ukraine perpetrated by Russia's military. They raised $34 million as of March 2022.[51][52] These two organizations are on the ground helping people in Poland and Romania. The couple promised to match the funding. Kunis is a native of Ukraine.[53][54]\n",
        "\n",
        "Controversy\n",
        "Ashton Kutcher received widespread criticism for his appearance in a Popchips ad campaign in May 2012.[55] The campaign featured Kutcher as an Indian man named Raj who was \"looking for love\" in a dating ad-style spoof. Kutcher's use of brown face paint and a stereotypical Indian accent received backlash from online viewers and members of the Indian-American community.[56]\n",
        "\n",
        "Personal life\n",
        "Relationships\n",
        "In February 2001, Ashley Ellerin, whom Ashton Kutcher was dating at the time, was murdered. While never a suspect, Kutcher testified at the 2019 trial of serial killer Michael Gargiulo. He stated that on the night that Ellerin was murdered, he (Kutcher) had arrived to pick her up for a date, but that she had not answered the door. His information helped establish the time of death.[57][58] Gargiulo was found guilty and sentenced to death on July 16, 2021, for her murder.[59]\n",
        "\n",
        "In late 2002, he began dating Brittany Murphy, his co-star in Just Married.[60]\n",
        "\n",
        "Kutcher and Demi Moore married on September 24, 2005.[61] Six years later, on November 17, 2011, Moore announced her intention to end the marriage.[62] After more than a year of separation, Kutcher filed for divorce from Moore on December 21, 2012, in Los Angeles Superior Court, citing irreconcilable differences.[63] The divorce was finalized on November 27, 2013.[61]\n",
        "\n",
        "Kutcher began dating his former That '70s Show co-star Mila Kunis during the first half of 2012.[64] After they became engaged in February 2014,[65] she gave birth to a daughter in October 2014.[66][67] Kunis married Kutcher in July 2015.[68] She gave birth to a son in November 2016.[69] The family resides in a sustainable farmhouse, designed by the couple and architect Howard Backen, in Beverly Hills.[70]\n",
        "\n",
        "Interests and beliefs\n",
        "In 2009, Kutcher described himself as a fiscal conservative and social liberal.[71] He is a gun owner; however, he supports new gun laws to help stop mass shootings. Following the 2017 mass shooting in Las Vegas, he said on Twitter \"I've had a gun since I was 12 yrs old but enough is enough. I'm a hunter and a sportsman but nobody needs assault rifles. Let's pray. Then let's change the law.\"[72]\n",
        "\n",
        "He trains in the martial art Brazilian jiu-jitsu, and is a brown belt under Rigan Machado.[73]\n",
        "\n",
        "On September 17, 2008, Kutcher was named the assistant coach for the freshman football team at Harvard-Westlake School in Los Angeles. However, he was unable to return in 2009 because he was filming Spread.[74][75]\n",
        "\n",
        "In February 2011, Kutcher sold his Hollywood Hills home, which he originally bought in 2004 for $1 million.[76][77]\n",
        "\n",
        "Kutcher grew up as a Roman Catholic. As an adult, he practices Kabbalah, and has visited Israel and studied the Torah; his wife Mila Kunis stated that he \"taught [me] everything I never knew\" about her religion, Judaism, though as of 2018, he has not converted.[78][79][80] On trips to Israel, Kutcher visited Kabbalah centers in Tel Aviv and in Tsfat.[79] In 2013, Kutcher remarked, \"Israel is near and dear to my heart ... coming to Israel is sort of coming back to the source of creation – trying to get closer to that. And as a creative person, going to the source of creation is really inspiring. And this place has been really inspiring for me – not only on a spiritual level, but also on an artistic and creative level.\"[81]\n",
        "\n",
        "In April 2012, Kutcher became the 500th paying customer to sign up to ride Virgin Galactic's SpaceShipTwo.[82][83]\n",
        "\n",
        "On November 6, 2022, Kutcher ran and completed the 2022 New York City Marathon on a warm day in 3:54:01.[84]\n",
        "\n",
        "Social media presence\n",
        "On April 16, 2009, Kutcher became the first Twitter user to reach more than 1 million followers,[85] beating CNN in the site's \"Million followers contest\".[86][87] However, there have been several reports that Twitter manipulated the contest's results by preventing users from \"unfollowing\" Kutcher or CNN.[88]\n",
        "\n",
        "In November 2011, Kutcher received heavy criticism for his tweet in response to the Jerry Sandusky child sexual abuse scandal, calling the firing of Penn State football coach Joe Paterno \"in poor taste\".[89] Kutcher subsequently turned over management of his Twitter account to his team at the Katalyst Media company.[90]\n",
        "\n",
        "On March 8, 2015, Kutcher sparked a national debate regarding the lack of equal access to diaper changing facilities in men's restrooms with this Facebook post: \"There are NEVER diaper changing stations in mens [sic] public restrooms. The first public men's room that I go into that has one gets a free shout out on my FB page!\"[91]\n",
        "\n",
        "Kutcher has leveraged his social media presence, particularly on Facebook, to post and promote content published by A Plus, a social media-driven content platform and associated company of which he is the chairman.[46]\n",
        "\n",
        "In April 2011, Kutcher and then-wife Demi Moore began a public service announcement campaign to end child sex trafficking.[92] Kutcher claimed that 100,000 to 300,000 American children were sold into sexual slavery. The number was criticized by newspaper The Village Voice. Kutcher and others including the New York Times, C-SPAN, and CNN used a peer-reviewed study referring to minors at risk for sexual exploitation.[93] The Village Voice, from their research, said it was only hundreds of children.[94] Kutcher claimed the criticism by the Village Voice promoted child prostitution and used Twitter to request that Village Voice advertisers withdraw their advertising from publications owned by its parent company.[95][96]\n",
        "\n",
        "Health\n",
        "In August 2022, Kutcher revealed that two years earlier he had been diagnosed with vasculitis, which had impaired his hearing, vision, and mobility during the course of a year.[97][98]\n",
        "\n",
        "Filmography\n",
        "Key\n",
        "Not yet released\tDenotes works that have not yet been released\n",
        "Film\n",
        "Year\tTitle\tRole\tNotes\n",
        "1999\tComing Soon\tLouie\t\n",
        "2000\tDown to You\tJim Morrison\t\n",
        "2000\tReindeer Games\tCollege Kid\t\n",
        "2000\tDude, Where's My Car?\tJesse Montgomery III\t\n",
        "2001\tTexas Rangers\tGeorge Durham\t\n",
        "2003\tJust Married\tTom Leezak\t\n",
        "2003\tMy Boss's Daughter\tTom Stansfield\t\n",
        "2003\tCheaper by the Dozen\tHank\tUncredited[99]\n",
        "2004\tThe Butterfly Effect\tEvan Treborn\t\n",
        "2005\tGuess Who\tSimon Green\t\n",
        "2005\tA Lot like Love\tOliver Martin\t\n",
        "2006\tBobby\tFisher\t\n",
        "2006\tThe Guardian\tJake Fischer\t\n",
        "2006\tOpen Season\tElliot (voice)\t\n",
        "2008\tWhat Happens in Vegas\tJack Fuller\t\n",
        "2009\tSpread\tNikki\t\n",
        "2009\tPersonal Effects\tWalter\t\n",
        "2010\tBrother's Justice\tHimself\t\n",
        "2010\tValentine's Day\tReed Bennet\t\n",
        "2010\tKillers\tSpencer Aimes\t\n",
        "2011\tNo Strings Attached\tAdam Franklin\t\n",
        "2011\tNew Year's Eve\tRandy\tSegment: \"Elevator Story\"\n",
        "2013\tJobs\tSteve Jobs\t\n",
        "2014\tAnnie\tSimon Goodspeed\tCameo\n",
        "2014\tThe Man Who Saved the World\tHimself\tDocumentary\n",
        "2022\tVengeance\tQuinten Sellers\t\n",
        "2023\tYour Place or Mine\tPeter\t\n",
        "TBA\tThe Long Home Not yet released\tNathan Winer, Sr.\tPost-production\n",
        "Television\n",
        "Year\tTitle\tRole\tNotes\n",
        "1998–2006\tThat '70s Show\tMichael Kelso\tMain role (Seasons 1–7)\n",
        "Recurring guest (Season 8)\n",
        "2001\tJust Shoot Me\tDean Cassidy\tEpisode: \"Mayas and Tigers and Deans, Oh My\"\n",
        "2002\tGrounded for Life\tCousin Scott\tEpisode: \"Dust in the Wind\"\n",
        "2003–2007; 2012\tPunk'd\tHimself\tCreator, host, producer\n",
        "2005\tRobot Chicken\tMichael Kelso\n",
        "Michael Knight\n",
        "Templeton 'Faceman' Peck\n",
        "TiVo Addict (voices)\t3 episodes\n",
        "2008\tMiss Guided\tBeaux\tEpisode: \"Hot Sub\"\n",
        "2011–2015\tTwo and a Half Men\tWalden Schmidt\tLead role (Season 9–12)\n",
        "2013\tMen at Work\tEric\tUncredited\n",
        "Episode: \"Long Distance Tyler\"\n",
        "2016\tFamily Guy\tHimself\tEpisode: \"Candy, Quahog Marshmallow\"\n",
        "2016–2020\tThe Ranch\tColt Bennett\tMain role\n",
        "2017\tThe Bachelorette\tHimself\tEpisode: \"Season 13, 139 overall\"\n",
        "2022\tThe Boys\tHimself\tEpisode: \"Herogasm\"; cameo\n",
        "2023\tThat '90s Show\tMichael Kelso\tGuest Role\n",
        "Producer\n",
        "Year\tTitle\tRole\tNotes\n",
        "2003–2007; 2012\tPunk'd\tExecutive producer\t\n",
        "2003\tMy Boss's Daughter\tCo-producer\t\n",
        "2004\tThe Butterfly Effect\tExecutive producer\t\n",
        "2004\tYou've Got a Friend\tExecutive producer\t8 episodes\n",
        "2005–2008\tBeauty and the Geek\tExecutive producer\t\n",
        "2007\tAdventures in Hollyhood\tExecutive producer\t8 episodes\n",
        "2007\tMiss Guided\tExecutive producer\t7 episodes\n",
        "2007\tGame Show in My Head\tExecutive producer\t8 episodes\n",
        "2007\tThe Real Wedding Crashers\tExecutive producer\t7 episodes\n",
        "2007\tRoom 401\tExecutive producer\t8 episodes\n",
        "2008\tPop Fiction\tExecutive producer\t1 episode\n",
        "2008–2009\tOpportunity Knocks\tExecutive producer\t\n",
        "2009\tTrue Beauty\tExecutive producer\t4 episodes\n",
        "2009\tThe Beautiful Life\tExecutive producer\t\n",
        "2009\tSpread\t\t\n",
        "2010\tKillers\tExecutive producer\t\n",
        "2012–2013\tRituals\tExecutive producer\t3 episodes\n",
        "2013\tForever Young\tExecutive producer\t\n",
        "Awards and nominations\n",
        "Main article: List of awards and nominations received by Ashton Kutcher\n",
        "Since he started acting, Kutcher has been nominated by the Teen Choice Awards the most. He has also won awards for his romantic comedies A Lot like Love, What Happens in Vegas and No Strings Attached. In 1999, he was nominated by the Young Artist Award for Best Performance in a TV Series by a Supporting Young Actor as Michael Kelso in That '70s Show. He has also been nominated by the Kid's Choice Awards, MTV Movie Awards, People's Choice Awards, and the Golden Raspberry Awards.[100]\"\"\""
      ],
      "metadata": {
        "id": "-R7tALDKn1X2"
      },
      "execution_count": 15,
      "outputs": []
    },
    {
      "cell_type": "code",
      "source": [
        "#documents = SimpleDirectoryReader('data').load_data()\n",
        "\n",
        "from llama_index import Document\n",
        "\n",
        "text_list = [text1]\n",
        "\n",
        "documents = [Document(t) for t in text_list]"
      ],
      "metadata": {
        "id": "DFM8PBkZpsaI"
      },
      "execution_count": 16,
      "outputs": []
    },
    {
      "cell_type": "code",
      "source": [
        "# # set number of output tokens\n",
        "# num_output = 500\n",
        "# # set maximum input size\n",
        "# max_input_size = 512\n",
        "# # set maximum chunk overlap\n",
        "# max_chunk_overlap = 15\n",
        "\n",
        "\n",
        "# prompt_helper = PromptHelper(max_input_size, num_output, max_chunk_overlap)"
      ],
      "metadata": {
        "id": "RrBFPZf8pvu_"
      },
      "execution_count": 17,
      "outputs": []
    },
    {
      "cell_type": "code",
      "source": [
        "\n",
        "index = GPTSimpleVectorIndex(documents, embed_model=embed_model, llm_predictor=llm_predictor)\n",
        "\n",
        "#index = GPTListIndex(documents, embed_model=embed_model, llm_predictor=llm_predictor)\n",
        "\n",
        "#index.save_to_disk('index.json')\n",
        "\n",
        "\n"
      ],
      "metadata": {
        "id": "B2oE7bPfpyif"
      },
      "execution_count": 18,
      "outputs": []
    },
    {
      "cell_type": "code",
      "source": [
        "import logging\n",
        "\n",
        "logging.getLogger().setLevel(logging.CRITICAL)"
      ],
      "metadata": {
        "id": "qAord7Hdp0Ps"
      },
      "execution_count": 19,
      "outputs": []
    },
    {
      "cell_type": "code",
      "source": [
        "response = index.query( \"what are some of the names of companies he invested?\") \n"
      ],
      "metadata": {
        "colab": {
          "base_uri": "https://localhost:8080/"
        },
        "id": "U6ei1YUCp2IX",
        "outputId": "5c8532ba-00b4-415b-d096-6a48126b6e63"
      },
      "execution_count": 20,
      "outputs": [
        {
          "output_type": "stream",
          "name": "stderr",
          "text": [
            "Token indices sequence length is longer than the specified maximum sequence length for this model (3472 > 512). Running this sequence through the model will result in indexing errors\n"
          ]
        }
      ]
    },
    {
      "cell_type": "code",
      "source": [
        "response.response"
      ],
      "metadata": {
        "colab": {
          "base_uri": "https://localhost:8080/",
          "height": 35
        },
        "id": "bahxucg0my1z",
        "outputId": "8fc8aff3-ce7c-42bf-a4a5-b67da9245cf9"
      },
      "execution_count": 21,
      "outputs": [
        {
          "output_type": "execute_result",
          "data": {
            "text/plain": [
              "'Foursquare, Airbnb, Path'"
            ],
            "application/vnd.google.colaboratory.intrinsic+json": {
              "type": "string"
            }
          },
          "metadata": {},
          "execution_count": 21
        }
      ]
    },
    {
      "cell_type": "code",
      "source": [
        "!pip install -q gradio"
      ],
      "metadata": {
        "id": "42iQRUlYhbgn"
      },
      "execution_count": 22,
      "outputs": []
    },
    {
      "cell_type": "code",
      "source": [
        "import gradio as gr"
      ],
      "metadata": {
        "id": "p92tHG-fhHS_"
      },
      "execution_count": 23,
      "outputs": []
    },
    {
      "cell_type": "code",
      "source": [
        "index = None"
      ],
      "metadata": {
        "id": "Nya0xFWjxyQq"
      },
      "execution_count": 24,
      "outputs": []
    },
    {
      "cell_type": "code",
      "source": [
        "def build_the_bot(input_text):\n",
        "  text_list = [input_text]\n",
        "  documents = [Document(t) for t in text_list]\n",
        "  global index\n",
        "  index = GPTSimpleVectorIndex(documents, embed_model=embed_model, llm_predictor=llm_predictor)\n",
        "  return('Index saved successfull!!!')"
      ],
      "metadata": {
        "id": "gTjRf-Cok8Ew"
      },
      "execution_count": 29,
      "outputs": []
    },
    {
      "cell_type": "code",
      "source": [
        "\n",
        "def chat(chat_history, user_input):\n",
        "  \n",
        "  bot_response = index.query(user_input)\n",
        "  #print(bot_response)\n",
        "  response = \"\"\n",
        "  for letter in ''.join(bot_response.response): #[bot_response[i:i+1] for i in range(0, len(bot_response), 1)]:\n",
        "      response += letter + \"\"\n",
        "      yield chat_history + [(user_input, response)]"
      ],
      "metadata": {
        "id": "Vz1Dufj9jyMh"
      },
      "execution_count": 30,
      "outputs": []
    },
    {
      "cell_type": "code",
      "source": [
        "\n",
        "with gr.Blocks() as demo:\n",
        "    gr.Markdown('# Q&A Bot with Hugging Face Models')\n",
        "    with gr.Tab(\"Input Text Document\"):\n",
        "        text_input = gr.Textbox()\n",
        "        text_output = gr.Textbox()\n",
        "        text_button = gr.Button(\"Build the Bot!!!\")\n",
        "        text_button.click(build_the_bot, text_input, text_output)\n",
        "    with gr.Tab(\"Knowledge Bot\"):\n",
        "#          inputbox = gr.Textbox(\"Input your text to build a Q&A Bot here.....\")\n",
        "          chatbot = gr.Chatbot()\n",
        "          message = gr.Textbox (\"What is this document about?\")\n",
        "          message.submit(chat, [chatbot, message], chatbot)\n",
        "\n",
        "demo.queue().launch(debug = True)"
      ],
      "metadata": {
        "colab": {
          "base_uri": "https://localhost:8080/",
          "height": 715
        },
        "id": "oCL2RqVZp3AM",
        "outputId": "23caa567-ddf2-43ef-b43a-0d86445841f9"
      },
      "execution_count": 31,
      "outputs": [
        {
          "output_type": "stream",
          "name": "stdout",
          "text": [
            "Setting queue=True in a Colab notebook requires sharing enabled. Setting `share=True` (you can turn this off by setting `share=False` in `launch()` explicitly).\n",
            "\n",
            "Colab notebook detected. This cell will run indefinitely so that you can see errors and logs. To turn off, set debug=False in launch().\n",
            "Running on public URL: https://373cdd08bd8ef56664.gradio.live\n",
            "\n",
            "This share link expires in 72 hours. For free permanent hosting and GPU upgrades (NEW!), check out Spaces: https://huggingface.co/spaces\n"
          ]
        },
        {
          "output_type": "display_data",
          "data": {
            "text/plain": [
              "<IPython.core.display.HTML object>"
            ],
            "text/html": [
              "<div><iframe src=\"https://373cdd08bd8ef56664.gradio.live\" width=\"100%\" height=\"500\" allow=\"autoplay; camera; microphone; clipboard-read; clipboard-write;\" frameborder=\"0\" allowfullscreen></iframe></div>"
            ]
          },
          "metadata": {}
        },
        {
          "output_type": "stream",
          "name": "stderr",
          "text": [
            "/usr/local/lib/python3.9/dist-packages/transformers/pipelines/base.py:1045: UserWarning: You seem to be using the pipelines sequentially on GPU. In order to maximize efficiency please use a dataset\n",
            "  warnings.warn(\n"
          ]
        },
        {
          "output_type": "stream",
          "name": "stdout",
          "text": [
            "Keyboard interruption in main thread... closing server.\n",
            "Killing tunnel 127.0.0.1:7860 <> https://373cdd08bd8ef56664.gradio.live\n"
          ]
        },
        {
          "output_type": "execute_result",
          "data": {
            "text/plain": []
          },
          "metadata": {},
          "execution_count": 31
        }
      ]
    },
    {
      "cell_type": "code",
      "source": [],
      "metadata": {
        "id": "wwFjGtsrhZKf"
      },
      "execution_count": 27,
      "outputs": []
    }
  ]
}